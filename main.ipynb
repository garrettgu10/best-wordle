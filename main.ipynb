{
 "cells": [
  {
   "cell_type": "code",
   "execution_count": 3,
   "metadata": {},
   "outputs": [
    {
     "name": "stdout",
     "output_type": "stream",
     "text": [
      "soare\n"
     ]
    }
   ],
   "source": [
    "import words\n",
    "\n",
    "best_word = \"\"\n",
    "best_score = 0\n",
    "\n",
    "for word in words.valid:\n",
    "    score = 0\n",
    "    for candidate in words.candidates:\n",
    "        shared_letters = set(word).intersection(set(candidate))\n",
    "        score += len(shared_letters)\n",
    "        \n",
    "        for i in range(0, 5):\n",
    "            if word[i] == candidate[i]:\n",
    "                score += 1\n",
    "\n",
    "    if score > best_score:\n",
    "        best_score = score\n",
    "        best_word = word\n",
    "\n",
    "print(best_word)"
   ]
  }
 ],
 "metadata": {
  "interpreter": {
   "hash": "916dbcbb3f70747c44a77c7bcd40155683ae19c65e1c03b4aa3499c5328201f1"
  },
  "kernelspec": {
   "display_name": "Python 3.8.2 64-bit",
   "language": "python",
   "name": "python3"
  },
  "language_info": {
   "codemirror_mode": {
    "name": "ipython",
    "version": 3
   },
   "file_extension": ".py",
   "mimetype": "text/x-python",
   "name": "python",
   "nbconvert_exporter": "python",
   "pygments_lexer": "ipython3",
   "version": "3.8.2"
  },
  "orig_nbformat": 4
 },
 "nbformat": 4,
 "nbformat_minor": 2
}
